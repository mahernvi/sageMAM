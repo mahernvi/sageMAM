{
 "cells": [
  {
   "cell_type": "code",
   "execution_count": 31,
   "id": "e85aeb64-5fe0-44d8-b047-3947ca804bef",
   "metadata": {},
   "outputs": [],
   "source": [
    "import re\n",
    "\n",
    "def upper_triangular_matrix(size, lista, field=SR):\n",
    "    m = zero_matrix(field,size,size)\n",
    "    for i in range(size):\n",
    "        for j in range(size):\n",
    "            if i<=j:\n",
    "                m[i,j] = lista[j - i/2 * (1 + i - 2*size)]\n",
    "    return m\n",
    "\n",
    "def lower_triangular_matrix(size, lista, field=SR):\n",
    "    m = zero_matrix(field,size,size)\n",
    "    for i in range(size):\n",
    "        for j in range(size):\n",
    "            if i>=j:\n",
    "                m[i,j] = lista[i/2*(i + 1) + j]\n",
    "    return m\n",
    "\n",
    "def diagonal_superior(val,size,field):\n",
    "    m = zero_matrix(field,size,size)\n",
    "    i = 1\n",
    "    while i < size:\n",
    "        for j in range (size-1):\n",
    "            m[j,i] = val\n",
    "            i = i+1\n",
    "    return m\n",
    "\n",
    "def diagonal_inferior(val,size,field):\n",
    "    m = zero_matrix(field,size,size)\n",
    "    i = 1\n",
    "    while i < size:\n",
    "        for j in range (size-1):\n",
    "            m[i,j] = val\n",
    "            i = i+1\n",
    "    return m\n",
    "\n",
    "def LU_dolittle(a):\n",
    "    p,l,u = A.LU()\n",
    "    return [p,l,u]\n",
    "    \n",
    "def LU_crout(a):\n",
    "    size = a.nrows()\n",
    "    p,l,u = A.LU()\n",
    "    aux = []\n",
    "    for i in range (size):\n",
    "        aux.append(u[i,i])\n",
    "    d = diagonal_matrix(aux)    \n",
    "    l = l*d\n",
    "    u = ~d*u\n",
    "    return [p,l,u]\n",
    "\n",
    "def jacobi(a):\n",
    "    size = a.nrows()\n",
    "    e = []\n",
    "    f = []\n",
    "    d = []\n",
    "    \n",
    "    for i in range(size):\n",
    "        d.append(a[i,i])\n",
    "        \n",
    "    m = diagonal_matrix(d)\n",
    "    aux = a-m\n",
    "    for i in range(size):\n",
    "        for j in range(size):\n",
    "            if i<=j:\n",
    "                e.append(-aux[i,j])\n",
    "                \n",
    "    for i in range(size):\n",
    "        for j in range(size):\n",
    "            if i>=j:\n",
    "                f.append(-aux[i,j])\n",
    "                \n",
    "    n = upper_triangular_matrix(size,e,SR) + lower_triangular_matrix(size,f,SR)\n",
    "    \n",
    "    j = ~m*(n)\n",
    "    \n",
    "    return  j\n",
    "\n",
    "def gauss_seidel(a):\n",
    "    size = a.nrows()\n",
    "    e = []\n",
    "    f = []\n",
    "    d = []\n",
    "    \n",
    "    for i in range(size):\n",
    "        d.append(a[i,i])\n",
    "        \n",
    "    daux = diagonal_matrix(d)\n",
    "    aux = a-daux\n",
    "    for i in range(size):\n",
    "        for j in range(size):\n",
    "            if i<=j:\n",
    "                e.append(-aux[i,j])\n",
    "                \n",
    "    for i in range(size):\n",
    "        for j in range(size):\n",
    "            if i>=j:\n",
    "                f.append(aux[i,j])\n",
    "    \n",
    "    n = upper_triangular_matrix(size,e,SR)\n",
    "    m = daux + lower_triangular_matrix(size,f,SR)\n",
    "    \n",
    "    l = ~m*n\n",
    "    \n",
    "    return l\n",
    "\n",
    "def radio_espectral(a):\n",
    "    size = a.nrows()\n",
    "    vaps = a.eigenvalues()\n",
    "    absVaps = []\n",
    "    for i in range(size):\n",
    "        absVaps.append(abs(vaps[i]))\n",
    "        \n",
    "    re = N(max(absVaps))\n",
    "    \n",
    "    return re\n",
    "\n",
    "def vector_nulo (size):\n",
    "    v = []\n",
    "    for i in range(size):\n",
    "        v.append(0)\n",
    "    \n",
    "    return vector(v)\n",
    "\n",
    "def sol_jacobi(a,b):\n",
    "    size = a.nrows()\n",
    "    j = jacobi(a)\n",
    "    if radio_espectral(j) < 1:\n",
    "        daux = []\n",
    "        for i in range(size):\n",
    "            daux.append(a[i,i])\n",
    "        d = ~diagonal_matrix(daux)\n",
    "        v = vector_nulo(size)\n",
    "        for i in range(100):\n",
    "            v = j*v+d*b\n",
    "        return N(v)\n",
    "    else:\n",
    "        print(\"Radio espectral mayor que uno\")\n",
    "\n",
    "def sol_gauss_seidel(a,b):\n",
    "    size = a.nrows()\n",
    "    l = gauss_seidel(a)\n",
    "    if radio_espectral(l) < 1:\n",
    "        e = []\n",
    "        f = []\n",
    "        d = []\n",
    "    \n",
    "        for i in range(size):\n",
    "            d.append(a[i,i])\n",
    "        \n",
    "        daux = diagonal_matrix(d)\n",
    "        aux = a-daux\n",
    "        for i in range(size):\n",
    "            for j in range(size):\n",
    "                if i<=j:\n",
    "                    e.append(-aux[i,j])\n",
    "                \n",
    "        for i in range(size):\n",
    "            for j in range(size):\n",
    "                if i>=j:\n",
    "                    f.append(aux[i,j])\n",
    "    \n",
    "        n = upper_triangular_matrix(size,e,SR)\n",
    "        m = daux + lower_triangular_matrix(size,f,SR)\n",
    "        \n",
    "        v = vector_nulo(size)\n",
    "        for i in range(100):\n",
    "            v = l*v+~m*b\n",
    "        return N(v)\n",
    "    else:\n",
    "        print(\"Radio espectral mayor que uno\")        \n",
    "\n",
    "\n",
    "def f(x): #la funcion la cual se quiere evaluar\n",
    "    return N(x*sin(x) -1)\n",
    "\n",
    "def biseccion(a,b):\n",
    "    if f(a)>0 and f(b)<0 or f(a)<0 and f(b)>0:\n",
    "        print(\"El intervalo sirve: \")\n",
    "        EPSILON = 0.0001\n",
    "        i = 1\n",
    "        m = (a+b)/2\n",
    "        while abs(N(f(m))) > EPSILON:\n",
    "            if f(a) > 0:\n",
    "                if f(m) > 0:\n",
    "                    a = N(m)\n",
    "                else:\n",
    "                    b = N(m)\n",
    "            else:\n",
    "                if f(m) < 0:\n",
    "                    a = N(m)\n",
    "                else:\n",
    "                    b = N(m)\n",
    "                m = N((a+b)/2)\n",
    "                i = i+1\n",
    "        return [a,b,m,i]\n",
    "    else:\n",
    "        print(\"El intervalo no sirve\")\n",
    "        \n",
    "def regula_falsi(a,b):\n",
    "    if f(a)>0 and f(b)<0 or f(a)<0 and f(b)>0:\n",
    "        print(\"El intervalo sirve: \")\n",
    "        EPSILON = 0.0001\n",
    "        i = 1\n",
    "        m = (a*f(b)-b*f(a))/(f(b)-f(a))\n",
    "        while abs(N(f(m))) > EPSILON:\n",
    "            if f(a) > 0:\n",
    "                if f(m) > 0:\n",
    "                    a = N(m)\n",
    "                else:\n",
    "                    b = N(m)\n",
    "            else:\n",
    "                if f(m) < 0:\n",
    "                    a = N(m)\n",
    "                else:\n",
    "                    b = N(m)\n",
    "                m = N((a*f(b)-b*f(a))/(f(b)-f(a)))\n",
    "                i = i+1\n",
    "        return [a,b,m,i]\n",
    "    else:\n",
    "        print(\"El intervalo no sirve\")"
   ]
  },
  {
   "cell_type": "code",
   "execution_count": 2,
   "id": "d08ff646-569a-4eb8-93ec-60f751a8c4fc",
   "metadata": {},
   "outputs": [],
   "source": [
    "d = []\n",
    "size = 10\n",
    "for i in range (size):\n",
    "    d.append(9)\n",
    "\n",
    "D = diagonal_matrix(d)"
   ]
  },
  {
   "cell_type": "code",
   "execution_count": 3,
   "id": "2cc7d478-4fb9-4b20-8d38-24c32e0a5b54",
   "metadata": {},
   "outputs": [
    {
     "data": {
      "text/plain": [
       "[9 2 2 2 2 2 2 2 2 2]\n",
       "[2 9 2 2 2 2 2 2 2 2]\n",
       "[2 2 9 2 2 2 2 2 2 2]\n",
       "[2 2 2 9 2 2 2 2 2 2]\n",
       "[2 2 2 2 9 2 2 2 2 2]\n",
       "[2 2 2 2 2 9 2 2 2 2]\n",
       "[2 2 2 2 2 2 9 2 2 2]\n",
       "[2 2 2 2 2 2 2 9 2 2]\n",
       "[2 2 2 2 2 2 2 2 9 2]\n",
       "[2 2 2 2 2 2 2 2 2 9]"
      ]
     },
     "execution_count": 3,
     "metadata": {},
     "output_type": "execute_result"
    }
   ],
   "source": [
    "vals = []\n",
    "for i in range (0,100):\n",
    "    vals.append(2)\n",
    "B = matrix(10,10,vals)\n",
    "\n",
    "e = []\n",
    "for i in range(0,10):\n",
    "    e.append(-2)\n",
    "    \n",
    "E = diagonal_matrix(e)\n",
    "A = B+E+D\n",
    "A"
   ]
  },
  {
   "cell_type": "code",
   "execution_count": 4,
   "id": "8ddfd00d-eb45-445e-b4da-44f5ee114fa4",
   "metadata": {},
   "outputs": [
    {
     "data": {
      "text/plain": [
       "[   0 -2/9 -2/9 -2/9 -2/9 -2/9 -2/9 -2/9 -2/9 -2/9]\n",
       "[-2/9    0 -2/9 -2/9 -2/9 -2/9 -2/9 -2/9 -2/9 -2/9]\n",
       "[-2/9 -2/9    0 -2/9 -2/9 -2/9 -2/9 -2/9 -2/9 -2/9]\n",
       "[-2/9 -2/9 -2/9    0 -2/9 -2/9 -2/9 -2/9 -2/9 -2/9]\n",
       "[-2/9 -2/9 -2/9 -2/9    0 -2/9 -2/9 -2/9 -2/9 -2/9]\n",
       "[-2/9 -2/9 -2/9 -2/9 -2/9    0 -2/9 -2/9 -2/9 -2/9]\n",
       "[-2/9 -2/9 -2/9 -2/9 -2/9 -2/9    0 -2/9 -2/9 -2/9]\n",
       "[-2/9 -2/9 -2/9 -2/9 -2/9 -2/9 -2/9    0 -2/9 -2/9]\n",
       "[-2/9 -2/9 -2/9 -2/9 -2/9 -2/9 -2/9 -2/9    0 -2/9]\n",
       "[-2/9 -2/9 -2/9 -2/9 -2/9 -2/9 -2/9 -2/9 -2/9    0]"
      ]
     },
     "execution_count": 4,
     "metadata": {},
     "output_type": "execute_result"
    }
   ],
   "source": [
    "jacobi(A)"
   ]
  },
  {
   "cell_type": "code",
   "execution_count": 5,
   "id": "3270e6d0-0806-4e52-a5b2-b087befda6e8",
   "metadata": {},
   "outputs": [
    {
     "data": {
      "text/plain": [
       "[                   0                 -2/9                 -2/9                 -2/9                 -2/9                 -2/9                 -2/9                 -2/9                 -2/9                 -2/9]\n",
       "[                   0                 4/81               -14/81               -14/81               -14/81               -14/81               -14/81               -14/81               -14/81               -14/81]\n",
       "[                   0               28/729               64/729              -98/729              -98/729              -98/729              -98/729              -98/729              -98/729              -98/729]\n",
       "[                   0             196/6561             448/6561             772/6561            -686/6561            -686/6561            -686/6561            -686/6561            -686/6561            -686/6561]\n",
       "[                   0           1372/59049           3136/59049           5404/59049           8320/59049          -4802/59049          -4802/59049          -4802/59049          -4802/59049          -4802/59049]\n",
       "[                   0          9604/531441         21952/531441         37828/531441         58240/531441         84484/531441        -33614/531441        -33614/531441        -33614/531441        -33614/531441]\n",
       "[                   0        67228/4782969       153664/4782969       264796/4782969       407680/4782969       591388/4782969       827584/4782969      -235298/4782969      -235298/4782969      -235298/4782969]\n",
       "[                   0      470596/43046721     1075648/43046721     1853572/43046721     2853760/43046721     4139716/43046721     5793088/43046721     7918852/43046721    -1647086/43046721    -1647086/43046721]\n",
       "[                   0    3294172/387420489    7529536/387420489   12975004/387420489   19976320/387420489   28978012/387420489   40551616/387420489   55431964/387420489   74563840/387420489  -11529602/387420489]\n",
       "[                   0  23059204/3486784401  52706752/3486784401  90825028/3486784401 139834240/3486784401 202846084/3486784401 283861312/3486784401 388023748/3486784401 521946880/3486784401 694133764/3486784401]"
      ]
     },
     "execution_count": 5,
     "metadata": {},
     "output_type": "execute_result"
    }
   ],
   "source": [
    "gauss_seidel(A)"
   ]
  },
  {
   "cell_type": "code",
   "execution_count": 6,
   "id": "c267385c-655d-4caa-96eb-0ef7d7128062",
   "metadata": {},
   "outputs": [
    {
     "data": {
      "text/plain": [
       "[  1 100   0   0   0]\n",
       "[  0   1 100   0   0]\n",
       "[  0   0   1 100   0]\n",
       "[  0   0   0   1 100]\n",
       "[100   0   0   0   1]"
      ]
     },
     "execution_count": 6,
     "metadata": {},
     "output_type": "execute_result"
    }
   ],
   "source": [
    "M = matrix([[1,100,0,0,0],[0,1,100,0,0],[0,0,1,100,0],[0,0,0,1,100],[100,0,0,0,1]])\n",
    "M"
   ]
  },
  {
   "cell_type": "code",
   "execution_count": 7,
   "id": "c6a2606f-b925-4d88-85c2-cbc101d4269d",
   "metadata": {},
   "outputs": [
    {
     "data": {
      "text/plain": [
       "[   0 -100    0    0    0]\n",
       "[   0    0 -100    0    0]\n",
       "[   0    0    0 -100    0]\n",
       "[   0    0    0    0 -100]\n",
       "[-100    0    0    0    0]"
      ]
     },
     "execution_count": 7,
     "metadata": {},
     "output_type": "execute_result"
    }
   ],
   "source": [
    "jacobi(M)"
   ]
  },
  {
   "cell_type": "code",
   "execution_count": 8,
   "id": "471d28be-e67f-4efd-aafd-2f66b7bf1ddf",
   "metadata": {},
   "outputs": [
    {
     "data": {
      "text/plain": [
       "(101, 101, 101, 101, 101)"
      ]
     },
     "execution_count": 8,
     "metadata": {},
     "output_type": "execute_result"
    }
   ],
   "source": [
    "b = vector([101,101,101,101,101])\n",
    "b"
   ]
  },
  {
   "cell_type": "code",
   "execution_count": 9,
   "id": "2aad3917-06d4-4b67-b301-edb1d6972bff",
   "metadata": {},
   "outputs": [
    {
     "name": "stdout",
     "output_type": "stream",
     "text": [
      "Radio espectral mayor que uno\n"
     ]
    }
   ],
   "source": [
    "sol_jacobi(M,b)"
   ]
  },
  {
   "cell_type": "code",
   "execution_count": 10,
   "id": "5dc42d9c-4525-4f1c-bf80-8e7975c8b307",
   "metadata": {},
   "outputs": [
    {
     "data": {
      "text/plain": [
       "[0 0 0 0 1]\n",
       "[1 0 0 0 0]\n",
       "[0 1 0 0 0]\n",
       "[0 0 1 0 0]\n",
       "[0 0 0 1 0]"
      ]
     },
     "execution_count": 10,
     "metadata": {},
     "output_type": "execute_result"
    }
   ],
   "source": [
    "e1 = vector([1,0,0,0,0])\n",
    "e2 = vector([0,1,0,0,0])\n",
    "e3 = vector([0,0,1,0,0])\n",
    "e4 = vector([0,0,0,1,0])\n",
    "e5 = vector([0,0,0,0,1])\n",
    "P = matrix([e5,e1,e2,e3,e4])\n",
    "P"
   ]
  },
  {
   "cell_type": "code",
   "execution_count": 11,
   "id": "c4c28153-5e9b-4646-8e47-549b9bbcc193",
   "metadata": {},
   "outputs": [
    {
     "data": {
      "text/plain": [
       "[100   0   0   0   1]\n",
       "[  1 100   0   0   0]\n",
       "[  0   1 100   0   0]\n",
       "[  0   0   1 100   0]\n",
       "[  0   0   0   1 100]"
      ]
     },
     "execution_count": 11,
     "metadata": {},
     "output_type": "execute_result"
    }
   ],
   "source": [
    "P*M"
   ]
  },
  {
   "cell_type": "code",
   "execution_count": 12,
   "id": "5fa3a6c3-f255-45bb-9284-94f16fdb6fe1",
   "metadata": {},
   "outputs": [
    {
     "data": {
      "text/plain": [
       "[100   0   0   0   1]\n",
       "[  1 100   0   0   0]\n",
       "[  0   1 100   0   0]\n",
       "[  0   0   1 100   0]\n",
       "[  0   0   0   1 100]"
      ]
     },
     "execution_count": 12,
     "metadata": {},
     "output_type": "execute_result"
    }
   ],
   "source": [
    "M*P"
   ]
  },
  {
   "cell_type": "code",
   "execution_count": 13,
   "id": "8653f5d2-21fc-445a-9105-eaf70e573f95",
   "metadata": {},
   "outputs": [
    {
     "data": {
      "text/plain": [
       "(1.00000000000000, 1.00000000000000, 1.00000000000000, 1.00000000000000, 1.00000000000000)"
      ]
     },
     "execution_count": 13,
     "metadata": {},
     "output_type": "execute_result"
    }
   ],
   "source": [
    "sol_jacobi(M*P,b)"
   ]
  },
  {
   "cell_type": "code",
   "execution_count": 14,
   "id": "d0cd248a-9047-4e7a-8da6-ffc6b346f793",
   "metadata": {},
   "outputs": [],
   "source": [
    "d = []\n",
    "for i in range(0,100):\n",
    "    d.append(-4)\n",
    "    \n",
    "D = diagonal_matrix(d)"
   ]
  },
  {
   "cell_type": "code",
   "execution_count": 15,
   "id": "2048a5f4-bf26-4730-96e8-172c067a985e",
   "metadata": {},
   "outputs": [
    {
     "data": {
      "text/plain": [
       "[100   0   0   0   1]\n",
       "[  1 100   0   0   0]\n",
       "[  0   1 100   0   0]\n",
       "[  0   0   1 100   0]\n",
       "[  0   0   0   1 100]"
      ]
     },
     "execution_count": 15,
     "metadata": {},
     "output_type": "execute_result"
    }
   ],
   "source": [
    "M*P"
   ]
  },
  {
   "cell_type": "code",
   "execution_count": 16,
   "id": "03f8e145-229e-4ab8-86e3-b34f77ac969d",
   "metadata": {},
   "outputs": [
    {
     "data": {
      "text/plain": [
       "(1, 0, 0, 0, 0)"
      ]
     },
     "execution_count": 16,
     "metadata": {},
     "output_type": "execute_result"
    }
   ],
   "source": [
    "P[1]"
   ]
  },
  {
   "cell_type": "code",
   "execution_count": 17,
   "id": "3731f67f-96d4-440b-b240-96c6cbfa8568",
   "metadata": {},
   "outputs": [
    {
     "data": {
      "text/plain": [
       "[  1 100   0   0   0]\n",
       "[  0   1 100   0   0]\n",
       "[  0   0   1 100   0]\n",
       "[  0   0   0   1 100]\n",
       "[100   0   0   0   1]"
      ]
     },
     "execution_count": 17,
     "metadata": {},
     "output_type": "execute_result"
    }
   ],
   "source": [
    "M"
   ]
  },
  {
   "cell_type": "code",
   "execution_count": 18,
   "id": "1bc27c47-f3ab-422d-9eab-e47f4224b82d",
   "metadata": {},
   "outputs": [
    {
     "data": {
      "text/plain": [
       "(0, 1, 100, 0, 0)"
      ]
     },
     "execution_count": 18,
     "metadata": {},
     "output_type": "execute_result"
    }
   ],
   "source": [
    "M[1]"
   ]
  },
  {
   "cell_type": "code",
   "execution_count": 19,
   "id": "e5c7c436-7435-4bd4-8ab1-ce0d4784ea2d",
   "metadata": {},
   "outputs": [
    {
     "data": {
      "text/plain": [
       "1"
      ]
     },
     "execution_count": 19,
     "metadata": {},
     "output_type": "execute_result"
    }
   ],
   "source": [
    "M[0][0]"
   ]
  },
  {
   "cell_type": "code",
   "execution_count": 20,
   "id": "a58038dd-b7a7-456b-ba1e-cdb8edf62c61",
   "metadata": {},
   "outputs": [
    {
     "data": {
      "text/plain": [
       "[1 0 0]\n",
       "[0 1 0]\n",
       "[0 0 1]"
      ]
     },
     "execution_count": 20,
     "metadata": {},
     "output_type": "execute_result"
    }
   ],
   "source": [
    "A = identity_matrix(3)\n",
    "A"
   ]
  },
  {
   "cell_type": "code",
   "execution_count": 21,
   "id": "9e21c956-c180-4edb-ab9c-2d0fc8de8971",
   "metadata": {},
   "outputs": [
    {
     "data": {
      "text/plain": [
       "[1 0 0]\n",
       "[0 2 0]\n",
       "[0 0 1]"
      ]
     },
     "execution_count": 21,
     "metadata": {},
     "output_type": "execute_result"
    }
   ],
   "source": [
    "A[1,1] = 2\n",
    "A"
   ]
  },
  {
   "cell_type": "code",
   "execution_count": 22,
   "id": "737ba796-3513-4dc4-915c-e1d7c4d5b56a",
   "metadata": {},
   "outputs": [
    {
     "data": {
      "text/plain": [
       "2"
      ]
     },
     "execution_count": 22,
     "metadata": {},
     "output_type": "execute_result"
    }
   ],
   "source": [
    "A[1][1]"
   ]
  },
  {
   "cell_type": "code",
   "execution_count": 27,
   "id": "c595518c-7598-413d-a798-fb79855404dc",
   "metadata": {},
   "outputs": [
    {
     "data": {
      "text/plain": [
       "[0 0 0]\n",
       "[2 0 0]\n",
       "[0 2 0]"
      ]
     },
     "execution_count": 27,
     "metadata": {},
     "output_type": "execute_result"
    }
   ],
   "source": [
    "def triangular_inferior(val,size,field):\n",
    "    m = zero_matrix(field,size,size)\n",
    "    i = 1\n",
    "    while i < size:\n",
    "        for j in range (size-1):\n",
    "            m[i,j] = val\n",
    "            i = i+1\n",
    "    return m\n",
    "\n",
    "A = triangular_inferior(2,3,SR)\n",
    "A"
   ]
  },
  {
   "cell_type": "code",
   "execution_count": 29,
   "id": "497e5b72-21e6-4a29-b73f-30764d8d8945",
   "metadata": {},
   "outputs": [
    {
     "data": {
      "text/plain": [
       "[0 2 0]\n",
       "[0 0 2]\n",
       "[0 0 0]"
      ]
     },
     "execution_count": 29,
     "metadata": {},
     "output_type": "execute_result"
    }
   ],
   "source": [
    "def triangular_superior(val,size,field):\n",
    "    m = zero_matrix(field,size,size)\n",
    "    i = 1\n",
    "    while i < size:\n",
    "        for j in range (size-1):\n",
    "            m[j,i] = val\n",
    "            i = i+1\n",
    "    return m\n",
    "\n",
    "B = triangular_superior(2,3,SR)\n",
    "B"
   ]
  },
  {
   "cell_type": "code",
   "execution_count": 32,
   "id": "e42f6be5-98e6-499c-83f5-69acb43fe9ec",
   "metadata": {},
   "outputs": [
    {
     "data": {
      "text/plain": [
       "[0 4 0 0]\n",
       "[0 0 4 0]\n",
       "[0 0 0 4]\n",
       "[0 0 0 0]"
      ]
     },
     "execution_count": 32,
     "metadata": {},
     "output_type": "execute_result"
    }
   ],
   "source": [
    "A = diagonal_superior(4,4,SR)\n",
    "A"
   ]
  },
  {
   "cell_type": "code",
   "execution_count": 33,
   "id": "a3af8fee-deae-4928-96f5-f1476dd58370",
   "metadata": {},
   "outputs": [],
   "source": [
    "B = diagonal_inferior(4,4,SR)"
   ]
  },
  {
   "cell_type": "code",
   "execution_count": 34,
   "id": "74f11f35-a5ce-407f-a927-cc46aa596891",
   "metadata": {},
   "outputs": [
    {
     "data": {
      "text/plain": [
       "[0 0 0 0]\n",
       "[4 0 0 0]\n",
       "[0 4 0 0]\n",
       "[0 0 4 0]"
      ]
     },
     "execution_count": 34,
     "metadata": {},
     "output_type": "execute_result"
    }
   ],
   "source": [
    "B"
   ]
  },
  {
   "cell_type": "code",
   "execution_count": 35,
   "id": "1f0f7ed8-25ef-4a51-8d7a-55bcb4ca3e01",
   "metadata": {},
   "outputs": [
    {
     "data": {
      "text/plain": [
       "[0 1 0 0 0 0 0 0 0 0]\n",
       "[0 0 1 0 0 0 0 0 0 0]\n",
       "[0 0 0 1 0 0 0 0 0 0]\n",
       "[0 0 0 0 1 0 0 0 0 0]\n",
       "[0 0 0 0 0 1 0 0 0 0]\n",
       "[0 0 0 0 0 0 1 0 0 0]\n",
       "[0 0 0 0 0 0 0 1 0 0]\n",
       "[0 0 0 0 0 0 0 0 1 0]\n",
       "[0 0 0 0 0 0 0 0 0 1]\n",
       "[0 0 0 0 0 0 0 0 0 0]"
      ]
     },
     "execution_count": 35,
     "metadata": {},
     "output_type": "execute_result"
    }
   ],
   "source": [
    "C = diagonal_superior(1,10,SR)\n",
    "C"
   ]
  },
  {
   "cell_type": "code",
   "execution_count": 36,
   "id": "f3216cf6-adf0-49a0-80da-28af78420d29",
   "metadata": {},
   "outputs": [
    {
     "data": {
      "text/plain": [
       "0"
      ]
     },
     "execution_count": 36,
     "metadata": {},
     "output_type": "execute_result"
    }
   ],
   "source": [
    "C[0,0]"
   ]
  },
  {
   "cell_type": "code",
   "execution_count": 37,
   "id": "a1cc8e9e-9f2a-4760-b43e-2997125d749e",
   "metadata": {},
   "outputs": [
    {
     "data": {
      "text/plain": [
       "1"
      ]
     },
     "execution_count": 37,
     "metadata": {},
     "output_type": "execute_result"
    }
   ],
   "source": [
    "C[0,1]"
   ]
  },
  {
   "cell_type": "code",
   "execution_count": 38,
   "id": "0f49aa10-35bf-4f4d-bb77-050f26fb6aaf",
   "metadata": {},
   "outputs": [
    {
     "data": {
      "text/plain": [
       "0"
      ]
     },
     "execution_count": 38,
     "metadata": {},
     "output_type": "execute_result"
    }
   ],
   "source": [
    "C[1,0]"
   ]
  },
  {
   "cell_type": "code",
   "execution_count": 40,
   "id": "3c658c33-f8db-421b-9162-c86d6d7ba52e",
   "metadata": {},
   "outputs": [
    {
     "data": {
      "text/plain": [
       "[9 1 0 0 0 0 0 0 0 0]\n",
       "[1 9 1 0 0 0 0 0 0 0]\n",
       "[0 1 9 1 0 0 0 0 0 0]\n",
       "[0 0 1 9 1 0 0 0 0 0]\n",
       "[0 0 0 1 9 1 0 0 0 0]\n",
       "[0 0 0 0 1 9 1 0 0 0]\n",
       "[0 0 0 0 0 1 9 1 0 0]\n",
       "[0 0 0 0 0 0 1 9 1 0]\n",
       "[0 0 0 0 0 0 0 1 9 1]\n",
       "[0 0 0 0 0 0 0 0 1 9]"
      ]
     },
     "execution_count": 40,
     "metadata": {},
     "output_type": "execute_result"
    }
   ],
   "source": [
    "D = 9*(identity_matrix(10))\n",
    "F = diagonal_inferior(1,10,SR)\n",
    "C+F+D"
   ]
  },
  {
   "cell_type": "code",
   "execution_count": 41,
   "id": "e3200b76-6dc6-4576-9237-e9d7bf1fc359",
   "metadata": {},
   "outputs": [
    {
     "data": {
      "text/plain": [
       "[0 0 0 0 0 0 0 0 0 0]\n",
       "[1 0 0 0 0 0 0 0 0 0]\n",
       "[0 1 0 0 0 0 0 0 0 0]\n",
       "[0 0 1 0 0 0 0 0 0 0]\n",
       "[0 0 0 1 0 0 0 0 0 0]\n",
       "[0 0 0 0 1 0 0 0 0 0]\n",
       "[0 0 0 0 0 1 0 0 0 0]\n",
       "[0 0 0 0 0 0 1 0 0 0]\n",
       "[0 0 0 0 0 0 0 1 0 0]\n",
       "[0 0 0 0 0 0 0 0 1 0]"
      ]
     },
     "execution_count": 41,
     "metadata": {},
     "output_type": "execute_result"
    }
   ],
   "source": [
    "C.T"
   ]
  },
  {
   "cell_type": "code",
   "execution_count": null,
   "id": "1786f25b-cd75-445a-b212-f94aa0e517a5",
   "metadata": {},
   "outputs": [],
   "source": []
  }
 ],
 "metadata": {
  "kernelspec": {
   "display_name": "SageMath 10.3",
   "language": "sage",
   "name": "sagemath10"
  },
  "language_info": {
   "codemirror_mode": {
    "name": "ipython",
    "version": 3
   },
   "file_extension": ".py",
   "mimetype": "text/x-python",
   "name": "python",
   "nbconvert_exporter": "python",
   "pygments_lexer": "ipython3",
   "version": "3.11.1"
  }
 },
 "nbformat": 4,
 "nbformat_minor": 5
}
